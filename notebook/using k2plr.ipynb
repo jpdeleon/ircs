{
 "cells": [
  {
   "cell_type": "code",
   "execution_count": 1,
   "metadata": {},
   "outputs": [
    {
     "name": "stdout",
     "output_type": "stream",
     "text": [
      "Python 2.7.13 :: Continuum Analytics, Inc.\r\n"
     ]
    }
   ],
   "source": [
    "!python --version"
   ]
  },
  {
   "cell_type": "code",
   "execution_count": 2,
   "metadata": {},
   "outputs": [
    {
     "name": "stdout",
     "output_type": "stream",
     "text": [
      "# conda environments:\r\n",
      "#\r\n",
      "GoogEarthEngine          /home/jp/miniconda2/envs/GoogEarthEngine\r\n",
      "astroconda               /home/jp/miniconda2/envs/astroconda\r\n",
      "everest-pipeline         /home/jp/miniconda2/envs/everest-pipeline\r\n",
      "helios                   /home/jp/miniconda2/envs/helios\r\n",
      "iraf27                   /home/jp/miniconda2/envs/iraf27\r\n",
      "ircs_pol                 /home/jp/miniconda2/envs/ircs_pol\r\n",
      "moscatel                 /home/jp/miniconda2/envs/moscatel\r\n",
      "radmc3dpy                /home/jp/miniconda2/envs/radmc3dpy\r\n",
      "root                  *  /home/jp/miniconda2\r\n",
      "\r\n"
     ]
    }
   ],
   "source": [
    "!conda env list"
   ]
  },
  {
   "cell_type": "markdown",
   "metadata": {},
   "source": [
    "# Dipper (sub-)list\n",
    "\n",
    "The links below show the quick look lightcurve reduced using a K2 data pipeline called [K2SFF](https://archive.stsci.edu/prepds/k2sff/) available online.\n",
    "\n",
    "* [EPIC203824153](https://www.cfa.harvard.edu/~avanderb/k2c2/ep203824153.html)\n",
    "* [EPIC203937317](https://www.cfa.harvard.edu/~avanderb/k2c2/ep203937317.html)\n",
    "* [EPIC204278916](https://www.cfa.harvard.edu/~avanderb/k2c2/ep204278916.html)\n",
    "* [EPIC204469637](https://www.cfa.harvard.edu/~avanderb/k2c2/ep204469637.html)\n",
    "* [EPIC204514548](https://www.cfa.harvard.edu/~avanderb/k2c2/ep204514548.html)\n",
    "* [EPIC204630363](https://www.cfa.harvard.edu/~avanderb/k2c2/ep204630363.html)\n",
    "* [EPIC204638512](https://www.cfa.harvard.edu/~avanderb/k2c2/ep204638512.html)\n",
    "* [EPIC205151387](https://www.cfa.harvard.edu/~avanderb/k2c2/ep205151387.html)\n",
    "* [EPIC203384911](https://www.cfa.harvard.edu/~avanderb/k2c2/ep203384911.html)"
   ]
  },
  {
   "cell_type": "markdown",
   "metadata": {},
   "source": [
    "## k2plr for downloading lightcurve"
   ]
  },
  {
   "cell_type": "raw",
   "metadata": {},
   "source": [
    "#original kplr routine\n",
    "import kplr\n",
    "client = kplr.API()\n",
    "\n",
    "# Find a KOI.\n",
    "koi = client.koi(952.01)\n",
    "print(koi.koi_period)\n",
    "\n",
    "# This KOI has an associated star.\n",
    "star = koi.star\n",
    "print(star.kic_teff)\n",
    "\n",
    "# Download the lightcurves for this KOI.\n",
    "lightcurves = koi.get_light_curves()\n",
    "for lc in lightcurves:\n",
    "    print(lc.filename)"
   ]
  },
  {
   "cell_type": "raw",
   "metadata": {},
   "source": [
    "# Get a list of light curve datasets.\n",
    "lcs = koi.get_light_curves(short_cadence=False)\n",
    "\n",
    "# Loop over the datasets and read in the data.\n",
    "time, flux, ferr, quality = [], [], [], []\n",
    "for lc in lcs:\n",
    "    with lc.open() as f:\n",
    "        # The lightcurve data are in the first FITS HDU.\n",
    "        hdu_data = f[1].data\n",
    "        time.append(hdu_data[\"time\"])\n",
    "        flux.append(hdu_data[\"sap_flux\"])\n",
    "        ferr.append(hdu_data[\"sap_flux_err\"])\n",
    "        quality.append(hdu_data[\"sap_quality\"])"
   ]
  },
  {
   "cell_type": "code",
   "execution_count": 8,
   "metadata": {},
   "outputs": [
    {
     "data": {
      "text/plain": [
       "'0.2.5'"
      ]
     },
     "execution_count": 8,
     "metadata": {},
     "output_type": "execute_result"
    }
   ],
   "source": [
    "import k2plr\n",
    "k2plr.__version__"
   ]
  },
  {
   "cell_type": "code",
   "execution_count": 9,
   "metadata": {
    "collapsed": true
   },
   "outputs": [],
   "source": [
    "client = k2plr.API()\n",
    "epic = client.k2_star(203824153)"
   ]
  },
  {
   "cell_type": "code",
   "execution_count": 10,
   "metadata": {},
   "outputs": [
    {
     "name": "stdout",
     "output_type": "stream",
     "text": [
      "(247.225281, -24.795612)\n"
     ]
    }
   ],
   "source": [
    "print(epic.k2_ra, epic.k2_dec)"
   ]
  },
  {
   "cell_type": "code",
   "execution_count": 21,
   "metadata": {
    "collapsed": true
   },
   "outputs": [],
   "source": [
    "lcs = epic.get_target_pixel_files()"
   ]
  },
  {
   "cell_type": "code",
   "execution_count": 46,
   "metadata": {
    "collapsed": true
   },
   "outputs": [],
   "source": [
    "#from astropy.io import fits\n",
    "hdulist = lc.open()\n",
    "hdulist.close()"
   ]
  },
  {
   "cell_type": "code",
   "execution_count": 48,
   "metadata": {},
   "outputs": [
    {
     "name": "stdout",
     "output_type": "stream",
     "text": [
      "Filename: /home/jp/.kplr/data/k2/target_pixel_files/203824153/ktwo203824153-c02_lpd-targ.fits.gz\n",
      "No.    Name         Type      Cards   Dimensions   Format\n",
      "0    PRIMARY     PrimaryHDU      54   ()              \n",
      "1    TARGETTABLES  BinTableHDU    274   3856R x 12C   [D, E, J, 110J, 110E, 110E, 110E, 110E, 110E, J, E, E]   \n",
      "2    APERTURE    ImageHDU        48   (11, 10)     int32   \n"
     ]
    }
   ],
   "source": [
    "hdulist.info()"
   ]
  },
  {
   "cell_type": "code",
   "execution_count": 52,
   "metadata": {},
   "outputs": [
    {
     "data": {
      "text/plain": [
       "'EPIC 203824153'"
      ]
     },
     "execution_count": 52,
     "metadata": {},
     "output_type": "execute_result"
    }
   ],
   "source": [
    "hdulist[0].header['OBJECT']"
   ]
  },
  {
   "cell_type": "code",
   "execution_count": 68,
   "metadata": {},
   "outputs": [
    {
     "data": {
      "text/plain": [
       "('TIME',\n",
       " 'TIMECORR',\n",
       " 'CADENCENO',\n",
       " 'RAW_CNTS',\n",
       " 'FLUX',\n",
       " 'FLUX_ERR',\n",
       " 'FLUX_BKG',\n",
       " 'FLUX_BKG_ERR',\n",
       " 'COSMIC_RAYS',\n",
       " 'QUALITY',\n",
       " 'POS_CORR1',\n",
       " 'POS_CORR2')"
      ]
     },
     "execution_count": 68,
     "metadata": {},
     "output_type": "execute_result"
    }
   ],
   "source": [
    "hdulist = lc.open()\n",
    "#get keys of a structured (numpy?) array\n",
    "hdulist[1].data.dtype.names"
   ]
  },
  {
   "cell_type": "code",
   "execution_count": 69,
   "metadata": {
    "collapsed": true,
    "scrolled": true
   },
   "outputs": [],
   "source": [
    "# Loop over the datasets and read in the data.\n",
    "time, flux, ferr, quality = [], [], [], []\n",
    "for lc in lcs:\n",
    "    with lc.open() as f:\n",
    "        # The lightcurve data are in the first FITS HDU.\n",
    "        hdu_data = f[1].data #pyfits.fitsrec.FITS_rec\n",
    "        time.append(hdu_data[\"time\"])\n",
    "        flux.append(hdu_data[\"flux\"])\n",
    "        ferr.append(hdu_data[\"flux_err\"])\n",
    "        quality.append(hdu_data[\"quality\"])"
   ]
  },
  {
   "cell_type": "code",
   "execution_count": 100,
   "metadata": {},
   "outputs": [
    {
     "data": {
      "text/plain": [
       "(1, 3856, 10, 11)"
      ]
     },
     "execution_count": 100,
     "metadata": {},
     "output_type": "execute_result"
    }
   ],
   "source": [
    "import numpy as np\n",
    "np.array(flux).shape #10x11 pix with 3856 measurements"
   ]
  },
  {
   "cell_type": "code",
   "execution_count": 92,
   "metadata": {},
   "outputs": [
    {
     "data": {
      "text/plain": [
       "<matplotlib.image.AxesImage at 0x7f4f31d6b3d0>"
      ]
     },
     "execution_count": 92,
     "metadata": {},
     "output_type": "execute_result"
    },
    {
     "data": {
      "image/png": "[encoded data removed]",
      "text/plain": [
       "<matplotlib.figure.Figure at 0x7f4f31efcb10>"
      ]
     },
     "metadata": {},
     "output_type": "display_data"
    }
   ],
   "source": [
    "%matplotlib inline\n",
    "plt.imshow(flux[0][0])"
   ]
  }
 ],
 "metadata": {
  "kernelspec": {
   "display_name": "Python 2",
   "language": "python",
   "name": "python2"
  },
  "language_info": {
   "codemirror_mode": {
    "name": "ipython",
    "version": 2
   },
   "file_extension": ".py",
   "mimetype": "text/x-python",
   "name": "python",
   "nbconvert_exporter": "python",
   "pygments_lexer": "ipython2",
   "version": "2.7.13"
  }
 },
 "nbformat": 4,
 "nbformat_minor": 2
}
