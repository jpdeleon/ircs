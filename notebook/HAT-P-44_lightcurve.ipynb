{
 "cells": [
  {
   "cell_type": "markdown",
   "metadata": {
    "slideshow": {
     "slide_type": "slide"
    }
   },
   "source": [
    "## Pipeline"
   ]
  },
  {
   "cell_type": "code",
   "execution_count": 3,
   "metadata": {
    "slideshow": {
     "slide_type": "fragment"
    }
   },
   "outputs": [],
   "source": [
    "import numpy as np\n",
    "import matplotlib.pyplot as plt\n",
    "import matplotlib.cm as cmaps\n",
    "\n",
    "from photutils import aperture_photometry\n",
    "from photutils import DAOStarFinder\n",
    "from astropy.visualization import SqrtStretch\n",
    "from astropy.visualization.mpl_normalize import ImageNormalize\n",
    "from photutils import CircularAperture\n",
    "from photutils import centroid_com, centroid_1dg, centroid_2dg\n",
    "from astropy.stats import sigma_clipped_stats\n",
    "import pandas as pd\n",
    "from astropy.table import Table\n",
    "\n",
    "\n",
    "def get_median(file_list, n_slices, show_image=None, save_image=None):\n",
    "    '''\n",
    "    stack n or all object images and returns stacked image\n",
    "    '''\n",
    "    obj_filenames = []\n",
    "    \n",
    "    for i in file_list:\n",
    "        z = pf.open(i)\n",
    "        hdr = z[0].header\n",
    "        if hdr['OBJECT']  == 'HAT-P-44':\n",
    "            obj_filenames.append(i)\n",
    "\n",
    "    # take 1457/n_slices = 30 images\n",
    "    print('Stacking {0} images'.format(len(obj_filenames[::n_slices])))\n",
    "\n",
    "    objs = np.array([pf.getdata(\"%s\" % n) for n in obj_filenames[::n_slices]])\n",
    "\n",
    "    print('Shape of array to be stacked: {0}'.format(objs.shape))\n",
    "    objs_stacked = np.median(objs, axis=0)\n",
    "    \n",
    "    fig = plt.figure(figsize=(10,10))\n",
    "    \n",
    "    if show_image is None: #default\n",
    "        norm = ImageNormalize(stretch=SqrtStretch())\n",
    "        plt.imshow(objs_stacked,cmap='Greys', origin='lower', norm=norm)\n",
    "        plt.show()\n",
    "    \n",
    "    if save_image is True: #False by default\n",
    "        fname='obj_med'+n_slices+'.fits'\n",
    "        print('Saving stacked image as {}'.format(fname))\n",
    "        pyfits.writeto(fname, objs_stacked, header=hdr)\n",
    "    \n",
    "    return objs_stacked\n",
    "\n",
    "def get_sources(image, num_sources=None, sigma_clip=None):\n",
    "    '''\n",
    "    returns positions of point sources\n",
    "    '''\n",
    "    \n",
    "    median, std = np.median(image), np.std(image)\n",
    "    if num_sources is None:\n",
    "        num_sources=10\n",
    "        #print('---showing 10 brightest sources (default)---')\n",
    "        \n",
    "    if sigma_clip is None:\n",
    "        mean, median, std = sigma_clipped_stats(image, sigma=5, iters=5)\n",
    "    else: #c.f. if sigma_clip:?\n",
    "        mean, median, std = sigma_clipped_stats(image, sigma=sigma_clip, iters=5)\n",
    "        \n",
    "    daofind = DAOStarFinder(fwhm=3.0, threshold=5.*std)\n",
    "    sources = daofind(image - median)\n",
    "    \n",
    "    #get brightest sources\n",
    "    sources = get_peak_sources(sources, num_sources)\n",
    "    print('Top {0} brightest point sources:\\n{1}'.format(num_sources,sources[:num_sources]))\n",
    "    \n",
    "    return sources\n",
    "\n",
    "def get_peak_sources(sources, num_sources=None):\n",
    "    '''\n",
    "    returns top sources \n",
    "    '''\n",
    "    #convert astropy tables to pandas.df to get sort by sources by peak\n",
    "    df = sources.to_pandas()\n",
    "    #df.set_index('id')\n",
    "    \n",
    "    if num_sources is None:\n",
    "        #use pd to sort point sources by the peak column\n",
    "        sources_df = df.sort_values(by='flux', ascending=False).head(3)\n",
    "    else:\n",
    "        sources_df = df.sort_values(by='flux', ascending=False).head(num_sources)\n",
    "        \n",
    "    #convert pandas back to astropy tables as required by CircularAperture() in show_sources()\n",
    "    peak_sources = Table.from_pandas(sources_df)\n",
    "\n",
    "    return peak_sources #in table format\n",
    "\n",
    "def show_sources(image, sources, aperture_radius_pix, num_sources=None, show_image=None):\n",
    "    '''\n",
    "    returns (x,y) centroid positions and apertures\n",
    "    '''\n",
    "    if num_sources is None:\n",
    "        #default shows all 10 brightest sources\n",
    "        #print('---showing 10 brightest sources (default)---')\n",
    "        positions = (sources['xcentroid'], sources['ycentroid'])\n",
    "    else: #c.f. if num_sources:?\n",
    "        positions = (sources['xcentroid'][:num_sources], sources['ycentroid'][:num_sources])\n",
    "        \n",
    "    apertures = CircularAperture(positions, r=aperture_radius_pix)\n",
    "    \n",
    "    if show_image is True:\n",
    "        fig = plt.figure(figsize=(10,10))\n",
    "        norm = ImageNormalize(stretch=SqrtStretch())\n",
    "        plt.imshow(image, cmap='Greys', origin='lower', norm=norm)\n",
    "        apertures.plot(color='blue', lw=1.5, alpha=0.5)\n",
    "        #label point sources\n",
    "        x,y = positions\n",
    "        count=0\n",
    "        for i,j in zip(x,y):\n",
    "            count+=1\n",
    "            plt.annotate(count,xy=(i,j), xytext=(i+10,j+10), fontsize=20)\n",
    "        plt.show()\n",
    "    \n",
    "    return positions, apertures\n",
    "\n",
    "def get_crop_images(image, sources, num_sources, box_size, aperture_radius_pix, show_image=None):\n",
    "    '''\n",
    "    returns cropped top point sources and their centroids\n",
    "    '''\n",
    "    #get only the top 5 brightest sources\n",
    "    sources=sources[:num_sources]\n",
    "    \n",
    "    positions = (sources['xcentroid'], sources['ycentroid'])\n",
    "    \n",
    "    #apertures = CircularAperture(positions, r=aperture_radius_pix)\n",
    "    \n",
    "    x,y = positions\n",
    "    \n",
    "    column = 0\n",
    "    source_images = []\n",
    "    apertures = []\n",
    "    \n",
    "    if show_image is True:\n",
    "        fig, ax = plt.subplots(nrows=1, ncols=num_sources, figsize=(10,10))\n",
    "        \n",
    "    for i,j in zip(x,y):\n",
    "        #print(i,j)\n",
    "        point_source = np.copy(image[int(j-(box_size/2)):int(j+(box_size/2)),int(i-(box_size/2)):int(i+(box_size/2))]) #y1:y2,x1:x2\n",
    "        source_images.append(point_source)\n",
    "        \n",
    "        #get centroid\n",
    "        xcenter, ycenter, aperture = get_centroid(point_source, aperture_radius_pix)\n",
    "        apertures.append(aperture)\n",
    "            \n",
    "        if show_image is True:\n",
    "            norm = ImageNormalize(stretch=SqrtStretch())\n",
    "            ax[column].imshow(point_source, cmap='Greys', origin='lower', norm=norm)\n",
    "            ax[column].plot(xcenter, ycenter, color='red', marker='+', ms=30, mew=2)\n",
    "            ax[column].set_title('flux={0:.2f}'.format(sources['flux'][column]))\n",
    "            aperture.plot(color='blue', lw=1.5, alpha=0.5, ax=ax[column])\n",
    "            column+=1\n",
    "        \n",
    "    return source_images, apertures\n",
    "\n",
    "def get_centroid(image, aperture_radius_pix):\n",
    "    xcenter, ycenter = centroid_2dg(image)\n",
    "    centroid = ([xcenter, ycenter])\n",
    "    aperture = CircularAperture(centroid, r=aperture_radius_pix)\n",
    "    \n",
    "    return xcenter, ycenter, aperture\n",
    "\n",
    "def get_phot(mini_images, aperture_radius_pix):\n",
    "    '''\n",
    "    returns phot table\n",
    "    '''\n",
    "    mini_sources = []\n",
    "    if len(mini_images) > 1:\n",
    "        for i in mini_images:\n",
    "            #run get_sources within the cropped image\n",
    "            mini_sources.append(get_sources(i, num_sources=1))\n",
    "    else:\n",
    "        mini_sources = get_sources(mini_images, num_sources=1)\n",
    "        \n",
    "        '''\n",
    "        skip below because mini_sources() gives more info than aperture_photometry()\n",
    "        #get new centroid in the image\n",
    "        mini_position, mini_aperture = show_sources(mini_image, mini_sources, aperture_radius_pix, num_sources=1, show_image=False)\n",
    "        #get photometry\n",
    "        phot_table = aperture_photometry(mini_image, mini_aperture)\n",
    "        '''\n",
    "        \n",
    "    return mini_sources"
   ]
  },
  {
   "cell_type": "code",
   "execution_count": 52,
   "metadata": {
    "collapsed": true
   },
   "outputs": [],
   "source": [
    "%matplotlib inline\n",
    "from glob import glob\n",
    "import pyfits as pf\n",
    "\n",
    "#filedir='/media/jpdl/B838B30438B2C124/df_HATP44/'\n",
    "filedir='/mnt/B838B30438B2C124/df_HATP44/'\n",
    "file_list = glob(filedir+'*.fits') \n",
    "file_list.sort()"
   ]
  },
  {
   "cell_type": "code",
   "execution_count": 53,
   "metadata": {},
   "outputs": [
    {
     "name": "stdout",
     "output_type": "stream",
     "text": [
      "Stacking 15 images\n",
      "Shape of array to be stacked: (15, 1024, 1024)\n",
      "Top 10 brightest point sources:\n",
      " id   xcentroid     ycentroid   ...      peak          flux          mag      \n",
      "--- ------------- ------------- ... ------------- ------------- --------------\n",
      " 20 702.180872909 301.834528054 ... 21737.8867188 51.0687100603 -4.27038722048\n",
      " 15 913.935281252 260.487089306 ... 13603.8378906 36.6339522699  -3.9097094381\n",
      " 37 149.827085405 862.632186251 ...  2590.3515625 5.01284508928 -1.75021070981\n",
      "  6 154.794492019 58.3825024454 ... 1716.14453125 3.70848067833 -1.42299005156\n",
      " 39 151.412015778 868.567217109 ... 1505.83398438 3.31382795626 -1.30082489359\n",
      " 14 917.758121072  256.21509314 ... 1998.19335938 3.17929144754 -1.25582585443\n",
      " 13 915.937240159 252.264513253 ... 1915.31445312   2.789805679   -1.113934885\n",
      " 32 718.267199385 752.553708497 ... 1768.73046875 2.73268733571 -1.09147486029\n",
      " 38 153.581204165 862.005776849 ...  1828.4140625 2.67954989651 -1.07015462138\n",
      " 19 708.387362545 297.288798278 ... 3452.05859375 2.59576659628 -1.03566409849\n"
     ]
    },
    {
     "data": {
      "text/plain": [
       "<matplotlib.figure.Figure at 0x7f5bb3780208>"
      ]
     },
     "metadata": {},
     "output_type": "display_data"
    }
   ],
   "source": [
    "objs_stacked = get_median(file_list, n_slices=100, show_image=False, save_image=False)\n",
    "##get top 5 sources; default saves up to 10 brightest sources\n",
    "sources= get_sources(objs_stacked, num_sources=10, sigma_clip=5)\n",
    "#positions, apertures = show_sources(objs_stacked, sources, num_sources=3, aperture_radius_pix=20, show_image=True)\n",
    "#source_images, apertures = get_crop_images(objs_stacked, sources, num_sources=4, aperture_radius_pix=10, box_size=40, show_image=True)"
   ]
  },
  {
   "cell_type": "code",
   "execution_count": 54,
   "metadata": {},
   "outputs": [
    {
     "data": {
      "text/html": [
       "<div>\n",
       "<table border=\"1\" class=\"dataframe\">\n",
       "  <thead>\n",
       "    <tr style=\"text-align: right;\">\n",
       "      <th></th>\n",
       "      <th>id</th>\n",
       "      <th>xcentroid</th>\n",
       "      <th>ycentroid</th>\n",
       "      <th>sharpness</th>\n",
       "      <th>roundness1</th>\n",
       "      <th>roundness2</th>\n",
       "      <th>npix</th>\n",
       "      <th>sky</th>\n",
       "      <th>peak</th>\n",
       "      <th>flux</th>\n",
       "      <th>mag</th>\n",
       "    </tr>\n",
       "  </thead>\n",
       "  <tbody>\n",
       "    <tr>\n",
       "      <th>0</th>\n",
       "      <td>20</td>\n",
       "      <td>702.180873</td>\n",
       "      <td>301.834528</td>\n",
       "      <td>0.392252</td>\n",
       "      <td>0.283891</td>\n",
       "      <td>0.104300</td>\n",
       "      <td>25.0</td>\n",
       "      <td>0.0</td>\n",
       "      <td>21737.886719</td>\n",
       "      <td>51.068710</td>\n",
       "      <td>-4.270387</td>\n",
       "    </tr>\n",
       "    <tr>\n",
       "      <th>1</th>\n",
       "      <td>15</td>\n",
       "      <td>913.935281</td>\n",
       "      <td>260.487089</td>\n",
       "      <td>0.406015</td>\n",
       "      <td>-0.320740</td>\n",
       "      <td>-0.329009</td>\n",
       "      <td>25.0</td>\n",
       "      <td>0.0</td>\n",
       "      <td>13603.837891</td>\n",
       "      <td>36.633952</td>\n",
       "      <td>-3.909709</td>\n",
       "    </tr>\n",
       "    <tr>\n",
       "      <th>2</th>\n",
       "      <td>37</td>\n",
       "      <td>149.827085</td>\n",
       "      <td>862.632186</td>\n",
       "      <td>0.525388</td>\n",
       "      <td>-0.741151</td>\n",
       "      <td>0.322512</td>\n",
       "      <td>25.0</td>\n",
       "      <td>0.0</td>\n",
       "      <td>2590.351562</td>\n",
       "      <td>5.012845</td>\n",
       "      <td>-1.750211</td>\n",
       "    </tr>\n",
       "    <tr>\n",
       "      <th>3</th>\n",
       "      <td>6</td>\n",
       "      <td>154.794492</td>\n",
       "      <td>58.382502</td>\n",
       "      <td>0.438238</td>\n",
       "      <td>0.045252</td>\n",
       "      <td>-0.068288</td>\n",
       "      <td>25.0</td>\n",
       "      <td>0.0</td>\n",
       "      <td>1716.144531</td>\n",
       "      <td>3.708481</td>\n",
       "      <td>-1.422990</td>\n",
       "    </tr>\n",
       "    <tr>\n",
       "      <th>4</th>\n",
       "      <td>39</td>\n",
       "      <td>151.412016</td>\n",
       "      <td>868.567217</td>\n",
       "      <td>0.508217</td>\n",
       "      <td>-0.021039</td>\n",
       "      <td>0.206977</td>\n",
       "      <td>25.0</td>\n",
       "      <td>0.0</td>\n",
       "      <td>1505.833984</td>\n",
       "      <td>3.313828</td>\n",
       "      <td>-1.300825</td>\n",
       "    </tr>\n",
       "  </tbody>\n",
       "</table>\n",
       "</div>"
      ],
      "text/plain": [
       "   id   xcentroid   ycentroid  sharpness  roundness1  roundness2  npix  sky  \\\n",
       "0  20  702.180873  301.834528   0.392252    0.283891    0.104300  25.0  0.0   \n",
       "1  15  913.935281  260.487089   0.406015   -0.320740   -0.329009  25.0  0.0   \n",
       "2  37  149.827085  862.632186   0.525388   -0.741151    0.322512  25.0  0.0   \n",
       "3   6  154.794492   58.382502   0.438238    0.045252   -0.068288  25.0  0.0   \n",
       "4  39  151.412016  868.567217   0.508217   -0.021039    0.206977  25.0  0.0   \n",
       "\n",
       "           peak       flux       mag  \n",
       "0  21737.886719  51.068710 -4.270387  \n",
       "1  13603.837891  36.633952 -3.909709  \n",
       "2   2590.351562   5.012845 -1.750211  \n",
       "3   1716.144531   3.708481 -1.422990  \n",
       "4   1505.833984   3.313828 -1.300825  "
      ]
     },
     "execution_count": 54,
     "metadata": {},
     "output_type": "execute_result"
    }
   ],
   "source": [
    "sources_df = sources.to_pandas()\n",
    "sources_df.head(5)"
   ]
  },
  {
   "cell_type": "code",
   "execution_count": 55,
   "metadata": {},
   "outputs": [],
   "source": [
    "flux = sources_df['flux'][0]\n",
    "#centroid = sources_df[['xcentroid','ycentroid']]\n",
    "xcenter = sources_df['xcentroid'][0]\n",
    "ycenter = sources_df['ycentroid'][0]"
   ]
  },
  {
   "cell_type": "code",
   "execution_count": 65,
   "metadata": {},
   "outputs": [],
   "source": []
  },
  {
   "cell_type": "markdown",
   "metadata": {
    "collapsed": true,
    "slideshow": {
     "slide_type": "notes"
    }
   },
   "source": [
    "## Make lightcurve"
   ]
  },
  {
   "cell_type": "code",
   "execution_count": 96,
   "metadata": {
    "scrolled": false
   },
   "outputs": [
    {
     "data": {
      "text/plain": [
       "<matplotlib.text.Text at 0x7f5bb27f59b0>"
      ]
     },
     "execution_count": 96,
     "metadata": {},
     "output_type": "execute_result"
    },
    {
     "data": {
      "image/png": "[encoded data removed]",
      "text/plain": [
       "<matplotlib.figure.Figure at 0x7f5bb25fbd30>"
      ]
     },
     "metadata": {},
     "output_type": "display_data"
    }
   ],
   "source": [
    "from datetime import datetime as dt\n",
    "\n",
    "obj_time = []\n",
    "obj_mjd  = []\n",
    "\n",
    "#initial values obtained from from stacked image:\n",
    "#init_centroid = (sources['xcentroid'], sources['ycentroid'])\n",
    "box_size = 100\n",
    "xcenter_init,ycenter_init = (702.2, 301.8)\n",
    "aperture_radius_pix = 30\n",
    "\n",
    "xcenters, ycenters = [], []\n",
    "fluxes = []\n",
    "source_images = []\n",
    "\n",
    "def get_centroid(image, aperture_radius_pix):\n",
    "    xcenter, ycenter = centroid_2dg(image)\n",
    "    centroid = ([xcenter, ycenter])\n",
    "    aperture = CircularAperture(centroid, r=aperture_radius_pix)\n",
    "    \n",
    "    return xcenter, ycenter, aperture\n",
    "\n",
    "#fig, ax = plt.subplots(nrows=1, ncols=?, figsize=(10,10))\n",
    "        \n",
    "for i in file_list[::500]:\n",
    "    z = pf.open(i)\n",
    "    hdr = z[0].header\n",
    "    img = z[0].data\n",
    "            \n",
    "    if hdr['OBJECT']  == 'HAT-P-44':\n",
    "        #get dates\n",
    "        date=dt.strptime(hdr['DATE-OBS'], '%Y-%m-%d')\n",
    "        time=dt.strptime(hdr['EXP-STRT'], '%H:%M:%S.%f')\n",
    "        newdate = time.replace(year=date.year, month=date.month, day=date.day)\n",
    "        obj_time.append(newdate)\n",
    "        obj_mjd.append(hdr['MJD-STRT'])\n",
    "        \n",
    "        #crop \n",
    "        point_source = np.copy(img[int(ycenter_init-(box_size/2)):int(ycenter_init+(box_size/2)),int(xcenter_init-(box_size/2)):int(xcenter_init+(box_size/2))]) #y1:y2,x1:x2\n",
    "        source_images.append(point_source)\n",
    "        \n",
    "        #photometry\n",
    "        daofind = DAOStarFinder(fwhm=3.0, threshold=5.*std)\n",
    "        sources = daofind(img) #(img - median)\n",
    "        sources_df = sources.to_pandas()\n",
    "                   \n",
    "        #get results\n",
    "        flux = sources_df['flux'][0]\n",
    "        xcenter = sources_df['xcentroid'][0]\n",
    "        ycenter = sources_df['ycentroid'][0]\n",
    "        fluxes.append(flux)\n",
    "        xcenters.append(xcenter)\n",
    "        ycenters.append(ycenter)\n",
    "        \n",
    "fig, ax = plt.subplots(nrows=3, ncols=1, figsize=(15,15))\n",
    "\n",
    "ax[0].plot(obj_mjd,xcenters, 'ro') #/np.mean(xcenters)\n",
    "ax[0].set_title('xcenter')\n",
    "ax[1].plot(obj_mjd,ycenters, 'bo') #/np.mean(ycenters)\n",
    "ax[1].set_title('ycenter')\n",
    "ax[2].plot(obj_mjd,fluxes, 'go') #/np.mean(fluxes)\n",
    "ax[2].set_ylabel('Flux (adu)')\n",
    "ax[2].set_xlabel('Date')"
   ]
  },
  {
   "cell_type": "code",
   "execution_count": 90,
   "metadata": {},
   "outputs": [
    {
     "data": {
      "text/plain": [
       "0    32401.792969\n",
       "Name: peak, dtype: float64"
      ]
     },
     "execution_count": 90,
     "metadata": {},
     "output_type": "execute_result"
    }
   ],
   "source": []
  },
  {
   "cell_type": "code",
   "execution_count": 38,
   "metadata": {},
   "outputs": [
    {
     "name": "stderr",
     "output_type": "stream",
     "text": [
      "WARNING: The fit may be unsuccessful; check fit_info['message'] for more information. [astropy.modeling.fitting]\n"
     ]
    },
    {
     "data": {
      "text/plain": [
       "<matplotlib.text.Text at 0x7f9145203ef0>"
      ]
     },
     "execution_count": 38,
     "metadata": {},
     "output_type": "execute_result"
    },
    {
     "data": {
      "image/png": "[encoded data removed]",
      "text/plain": [
       "<matplotlib.figure.Figure at 0x7f9144823630>"
      ]
     },
     "metadata": {},
     "output_type": "display_data"
    }
   ],
   "source": [
    "'''\n",
    "  id   xcentroid     ycentroid   ...      peak          flux           mag      \n",
    "  --- ------------- ------------- ... ------------- ------------- ---------------\n",
    "  1 817.924729635 17.6246340694 ...   199.0546875 1.23201281266 -0.226538061043\n",
    "  2 156.110302174 37.4092066052 ... 495.150390625 2.51339377608  -1.00065133826\n",
    "  3 154.940375202 55.6764102917 ... 1242.12695312 2.58603731411  -1.03158696764\n",
    "'''\n",
    "%matplotlib inline\n",
    "\n",
    "from datetime import datetime as dt\n",
    "from glob import glob\n",
    "import pyfits as pf\n",
    "\n",
    "filedir='/media/jpdl/B838B30438B2C124/df_HATP44/'\n",
    "file_list = glob(filedir+'*.fits') \n",
    "file_list.sort()\n",
    "\n",
    "obj_time = []\n",
    "obj_mjd  = []\n",
    "\n",
    "#initial values obtained from from stacked image:\n",
    "init_centroid = (sources['xcentroid'], sources['ycentroid'])\n",
    "box_size=20\n",
    "phot_tables=[]\n",
    "\n",
    "for i in file_list[::5]:\n",
    "    z = pf.open(i)\n",
    "    hdr = z[0].header\n",
    "    img = z[0].data\n",
    "    if hdr['OBJECT']  == 'HAT-P-44':\n",
    "        date=dt.strptime(hdr['DATE-OBS'], '%Y-%m-%d')\n",
    "        time=dt.strptime(hdr['EXP-STRT'], '%H:%M:%S.%f')\n",
    "        newdate = time.replace(year=date.year, month=date.month, day=date.day)\n",
    "        obj_time.append(newdate)\n",
    "        obj_mjd.append(hdr['MJD-STRT'])\n",
    "        \n",
    "        #sources= Get_Sources(img, num_sources=5, sigma_clip=5)\n",
    "        #sources = Get_Peak_Sources(sources, num_sources=5)\n",
    "        positions, apertures = Show_Sources(img, sources, aperture_radius_pix=10,show_image=False)\n",
    "        source_images = Get_Crop_Images(img, sources, num_sources=3, aperture_radius_pix=10, box_size=40, show_image=False)\n",
    "        phot_tables.append(aperture_photometry(img, apertures))\n",
    "        \n",
    "flux_adu1 = []\n",
    "flux_adu2 = []\n",
    "flux_adu3 = []\n",
    "\n",
    "fig, ax = plt.subplots(nrows=3, ncols=1, figsize=(15,15))\n",
    "\n",
    "for i in range(len(phot_tables)):\n",
    "    flux_adu1.append(phot_tables[i]['aperture_sum'][0])\n",
    "    flux_adu2.append(phot_tables[i]['aperture_sum'][1])\n",
    "    flux_adu3.append(phot_tables[i]['aperture_sum'][2])\n",
    "    \n",
    "ax[0].plot(obj_mjd,flux_adu1/np.mean(flux_adu1), 'ro')\n",
    "ax[1].plot(obj_mjd,flux_adu2/np.mean(flux_adu2), 'bo')\n",
    "ax[2].plot(obj_mjd,flux_adu3/np.mean(flux_adu3), 'go')\n",
    "ax[0].set_ylabel('Flux (adu)')\n",
    "ax[2].set_xlabel('Date')"
   ]
  },
  {
   "cell_type": "code",
   "execution_count": null,
   "metadata": {
    "collapsed": true
   },
   "outputs": [],
   "source": []
  },
  {
   "cell_type": "markdown",
   "metadata": {},
   "source": [
    "## PSF Modeling"
   ]
  },
  {
   "cell_type": "code",
   "execution_count": null,
   "metadata": {
    "collapsed": true
   },
   "outputs": [],
   "source": [
    "sample\n",
    "\n"
   ]
  },
  {
   "cell_type": "code",
   "execution_count": 44,
   "metadata": {},
   "outputs": [],
   "source": [
    "ygrid, xgrid = np.mgrid[:sample.shape[0], :sample.shape[1]]\n",
    "\n",
    "for i in range(sample.shape[0]):\n",
    "    for j in range(sample.shape[1]):\n",
    "        xgrid[i,j] = sample[i][j]\n",
    "        ygrid[i,j] = sample[j][i]"
   ]
  },
  {
   "cell_type": "code",
   "execution_count": 28,
   "metadata": {},
   "outputs": [
    {
     "data": {
      "text/plain": [
       "1465.7274"
      ]
     },
     "execution_count": 28,
     "metadata": {},
     "output_type": "execute_result"
    }
   ],
   "source": [
    "np.std(sample)"
   ]
  },
  {
   "cell_type": "code",
   "execution_count": 38,
   "metadata": {},
   "outputs": [
    {
     "data": {
      "text/plain": [
       "array([[ 0,  1,  2, ..., 37, 38, 39],\n",
       "       [ 0,  1,  2, ..., 37, 38, 39],\n",
       "       [ 0,  1,  2, ..., 37, 38, 39],\n",
       "       ..., \n",
       "       [ 0,  1,  2, ..., 37, 38, 39],\n",
       "       [ 0,  1,  2, ..., 37, 38, 39],\n",
       "       [ 0,  1,  2, ..., 37, 38, 39]])"
      ]
     },
     "execution_count": 38,
     "metadata": {},
     "output_type": "execute_result"
    }
   ],
   "source": [
    "x"
   ]
  },
  {
   "cell_type": "code",
   "execution_count": 35,
   "metadata": {},
   "outputs": [
    {
     "data": {
      "text/plain": [
       "array([[938, 928, 940, ..., 895, 975, 908],\n",
       "       [931, 968, 943, ..., 935, 908, 940],\n",
       "       [934, 912, 937, ..., 927, 912, 950],\n",
       "       ..., \n",
       "       [922, 947, 972, ..., 911, 957, 911],\n",
       "       [925, 936, 944, ..., 930, 932, 956],\n",
       "       [910, 926, 952, ..., 934, 937, 909]])"
      ]
     },
     "execution_count": 35,
     "metadata": {},
     "output_type": "execute_result"
    }
   ],
   "source": [
    "xgrid"
   ]
  },
  {
   "cell_type": "code",
   "execution_count": 30,
   "metadata": {},
   "outputs": [
    {
     "data": {
      "text/plain": [
       "array([[ 0,  0,  0, ...,  0,  0,  0],\n",
       "       [ 1,  1,  1, ...,  1,  1,  1],\n",
       "       [ 2,  2,  2, ...,  2,  2,  2],\n",
       "       ..., \n",
       "       [37, 37, 37, ..., 37, 37, 37],\n",
       "       [38, 38, 38, ..., 38, 38, 38],\n",
       "       [39, 39, 39, ..., 39, 39, 39]])"
      ]
     },
     "execution_count": 30,
     "metadata": {},
     "output_type": "execute_result"
    }
   ],
   "source": [
    "y"
   ]
  },
  {
   "cell_type": "code",
   "execution_count": 37,
   "metadata": {},
   "outputs": [
    {
     "data": {
      "text/plain": [
       "array([[938, 931, 934, ..., 922, 925, 910],\n",
       "       [928, 968, 912, ..., 947, 936, 926],\n",
       "       [940, 943, 937, ..., 972, 944, 952],\n",
       "       ..., \n",
       "       [895, 935, 927, ..., 911, 930, 934],\n",
       "       [975, 908, 912, ..., 957, 932, 937],\n",
       "       [908, 940, 950, ..., 911, 956, 909]])"
      ]
     },
     "execution_count": 37,
     "metadata": {},
     "output_type": "execute_result"
    }
   ],
   "source": [
    "ygrid"
   ]
  },
  {
   "cell_type": "code",
   "execution_count": 45,
   "metadata": {},
   "outputs": [],
   "source": [
    "sigma_y, sigma_x = np.std(ygrid), np.std(xgrid)\n",
    "\n",
    "zgrid = (1/(2*np.pi*sigma_x*sigma_y) * np.exp(-(x**2/(2*sigma_x**2)\n",
    "     + y**2/(2*sigma_y**2))))"
   ]
  },
  {
   "cell_type": "markdown",
   "metadata": {},
   "source": [
    "see [2-D model fitting with astropy](http://docs.astropy.org/en/stable/modeling/); see also scipy [interpolate](https://docs.scipy.org/doc/scipy/reference/generated/scipy.interpolate.interp2d.html); astropy [2DGaussian kernel](http://docs.astropy.org/en/stable/convolution/kernels.html); astroml [robust bivariate gaussian estimation](http://www.astroml.org/book_figures/chapter3/fig_robust_pca.html)"
   ]
  },
  {
   "cell_type": "code",
   "execution_count": 46,
   "metadata": {},
   "outputs": [
    {
     "data": {
      "text/plain": [
       "<matplotlib.text.Text at 0x7f4baa7264e0>"
      ]
     },
     "execution_count": 46,
     "metadata": {},
     "output_type": "execute_result"
    },
    {
     "data": {
      "image/png": "[encoded data removed]",
      "text/plain": [
       "<matplotlib.figure.Figure at 0x7f4ba7e24780>"
      ]
     },
     "metadata": {},
     "output_type": "display_data"
    }
   ],
   "source": [
    "import warnings\n",
    "import numpy as np\n",
    "import matplotlib.pyplot as plt\n",
    "from astropy.modeling import models, fitting\n",
    "\n",
    "# Fit the data using astropy.modeling\n",
    "p_init = models.Polynomial2D(degree=2)\n",
    "fit_p = fitting.LevMarLSQFitter()\n",
    "\n",
    "with warnings.catch_warnings():\n",
    "    # Ignore model linearity warning from the fitter\n",
    "    warnings.simplefilter('ignore')\n",
    "    p = fit_p(p_init, xgrid, ygrid, zgrid)\n",
    "\n",
    "# Plot the data with the best-fit model\n",
    "plt.figure(figsize=(8, 2.5))\n",
    "plt.subplot(1, 3, 1)\n",
    "plt.imshow(sample, origin='lower', interpolation='nearest')\n",
    "plt.title(\"Data\")\n",
    "plt.subplot(1, 3, 2)\n",
    "plt.imshow(p(xgrid, ygrid), origin='lower', interpolation='nearest')\n",
    "plt.title(\"Model\")\n",
    "plt.subplot(1, 3, 3)\n",
    "plt.imshow(sample - p(xgrid, ygrid), origin='lower', interpolation='nearest')\n",
    "plt.title(\"Residual\")"
   ]
  },
  {
   "cell_type": "code",
   "execution_count": null,
   "metadata": {
    "collapsed": true
   },
   "outputs": [],
   "source": []
  },
  {
   "cell_type": "markdown",
   "metadata": {},
   "source": [
    "## PSF"
   ]
  },
  {
   "cell_type": "code",
   "execution_count": null,
   "metadata": {
    "collapsed": true
   },
   "outputs": [],
   "source": []
  },
  {
   "cell_type": "code",
   "execution_count": null,
   "metadata": {
    "collapsed": true
   },
   "outputs": [],
   "source": []
  },
  {
   "cell_type": "code",
   "execution_count": null,
   "metadata": {
    "collapsed": true
   },
   "outputs": [],
   "source": []
  },
  {
   "cell_type": "code",
   "execution_count": null,
   "metadata": {
    "collapsed": true
   },
   "outputs": [],
   "source": []
  },
  {
   "cell_type": "code",
   "execution_count": null,
   "metadata": {
    "collapsed": true
   },
   "outputs": [],
   "source": []
  },
  {
   "cell_type": "code",
   "execution_count": null,
   "metadata": {
    "collapsed": true
   },
   "outputs": [],
   "source": []
  },
  {
   "cell_type": "code",
   "execution_count": null,
   "metadata": {
    "collapsed": true
   },
   "outputs": [],
   "source": [
    "from glob import glob\n",
    "import pyfits as pf\n",
    "import matplotlib.pyplot as plt\n",
    "import matplotlib.cm as cmap\n",
    "import numpy as np\n",
    "\n",
    "\n",
    "class LightCurve():\n",
    "    def __init__(self):\n",
    "    #\n",
    "    #\n",
    "    self.synaptic_weights = 2 * random.random((3,1)) - 1\n",
    "    \n",
    "    #Sigmoid function: S-shaped curve\n",
    "    #we pass the weighted sum of the inputs through this function\n",
    "    #to normalize them between 0 and 1\n",
    "    def __sigmoid(self, x):\n",
    "\treturn 1.0/(1 + exp(-x))\n",
    "    \n",
    "    #gradient of the sigmoid curve\n",
    "    def __sigmoid_derivative(self, x):\n",
    "\treturn x * (1-x)\n",
    "\n",
    "    def train(self, training_set_inputs, training_set_outputs, number_of_training_iterations):\n",
    "    \tfor iterations in xrange(number_of_training_iterations):\n",
    "\t    #pass the training set through our NN\n",
    "\t    output = self.predict(training_set_inputs)\n",
    "\t    #calculate the error\n",
    "\t    error = training_set_outputs - output\n",
    "\t    #multiply the error by the input and by the gradient of sigmoid curve\n",
    "\t    adjustment = dot(training_set_inputs.T, error * self.__sigmoid_derivative(output))\n",
    "\t    #adjust the weights\n",
    "\t    self.synaptic_weights += adjustment\n",
    "    def predict(self, inputs):\n",
    "\t#pass inputs through our NN\n",
    "\treturn self.__sigmoid(dot(inputs, self.synaptic_weights))\n",
    "\n",
    "\n",
    "if __name__ == '__main__':\n",
    "    #initialize\n",
    "    lightcurve = LightCurve()\n",
    "    print 'Random starting synaptic weights:'\n",
    "    print neural_network.synaptic_weights\n",
    "\n",
    "    #Training set: try 4 samples each consisting of 3 input value and 1 output value\n",
    "    training_set_inputs = array([[0,0,1],[1,1,1],[1,0,1],[0,1,1]])\n",
    "    training_set_outputs = array([[0,1,1,0]]).T\n",
    "\n",
    "    #train the NN using a training set\n",
    "    #do it 10000 times and make small adjustments each time\n",
    "    neural_network.train(training_set_inputs, training_set_outputs, 10000)\n",
    "\n",
    "    print 'New synaptic weights after training:'\n",
    "    print neural_network.synaptic_weights\n",
    "\n",
    "    #test the NN\n",
    "    print 'predicting:'\n",
    "    print neural.network.predict([0,1,0])"
   ]
  }
 ],
 "metadata": {
  "kernelspec": {
   "display_name": "Python 2",
   "language": "python",
   "name": "python2"
  },
  "language_info": {
   "codemirror_mode": {
    "name": "ipython",
    "version": 2
   },
   "file_extension": ".py",
   "mimetype": "text/x-python",
   "name": "python",
   "nbconvert_exporter": "python",
   "pygments_lexer": "ipython2",
   "version": "2.7.13"
  }
 },
 "nbformat": 4,
 "nbformat_minor": 2
}
