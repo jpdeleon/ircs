{
 "cells": [
  {
   "cell_type": "markdown",
   "metadata": {},
   "source": [
    "## Definition of dipper\n",
    "\n",
    "* [Ansdell et al. 2016](https://arxiv.org/pdf/1510.08853.pdf)"
   ]
  },
  {
   "cell_type": "markdown",
   "metadata": {},
   "source": [
    "## Dipper observations\n",
    "* Morales-Calder ́on et al. (2011) found that the dips were shallower in the IR compared to the optical, consistent with extinction  by  dust;\n",
    "* Stauffer et al. (2015) and McGinnis et al. (2015) later attributed the dippers in NGC 2264 to occultations  of  the  stellar  photosphere  by  disk  structures at or near the co-rotation radius\n",
    "\n",
    "### population\n",
    "\n",
    "* Alencar et al. (2010) and Cody et al. (2014) found such dippers to be fairly common (∼20–30%) among the CTTS population in NGC 2264\n",
    "* K2? (this work)"
   ]
  },
  {
   "cell_type": "markdown",
   "metadata": {},
   "source": [
    "## Motivation: relevance to planet formation\n",
    "* Detailed follow-up investigations of the dipper populations in young star-forming regions are needed to improve our  physical  understanding  of  the  dipper  phenomenon, which in turn can provide a means of probing disk structure  and  dynamics  during  key  epochs  of  planet  formation.  \n",
    "* can provide a means of probing disk structure  and  dynamics  during  key  epochs  of  planet  formation\n",
    " * For  example,  if  the  dips  are  indeed  produced  by occulting inner disk structures, they could provide a rare opportunity to study the inner disk and its role (if any) in  planet  formation.   \n",
    " * If  the  dips  are  instead  related  to material further out in the disk, they could provide information on the size distribution of forming planetesimals in debris disks or transiently formed vortices near the inner edges of transition disks\n",
    "\n",
    "## Enter K2\n",
    "K2 mission (Howell et al. 2014) provides a new opportunity for studying photometric variability  in  young  stellar  clusters\n",
    "\n",
    "*  K2  Campaign  2  (K2/C2)  field covered  the  Upper  Scorpius  (Upper  Sco)  and ρ Ophiuchus  (ρ Oph)  regions,  which  are  relatively  nearby  at ∼140 pc (de Zeeuw et al. 1999) and ∼120 pc (Loinard et  al.  2008),  respectively,  and  have  significantly  different ages at ∼10 Myr (Pecaut et al. 2012) and ∼1 Myr (Andrews & Williams 2007), respectively\n",
    "\n",
    "## S.2. Dipper sample selection\n",
    "### K2\n",
    "* K2 utilizes an ecliptic-observing orientation to mitigate pointing drift due to solar radiation pressure\n",
    "* quasi-periodic  thruster  firings  are  still  needed  to correct for residual pointing drift throughout the 80-day observing campaign\n",
    "* [insert FOV per campaign]\n",
    "* new  data  reduction  solutions  optimized  for  K2 (e.g., Vanderburg & Johnson 2014; Huang et al. 2015)\n",
    "\n",
    "### reduction\n",
    "* Everest pipeline (Luger et al. 2016)\n",
    "* corrected data to the K2/C2 K2SFF\n",
    "* improves the pointing precision of K2 aperture photometry by correlating observed variability with  spacecraft  motion\n",
    "\n",
    "* visual inspection \n",
    "* dippers exhibit complex light curves -> difficult to identify with automatic algorithms\n",
    "\n",
    "* normalized light curve through\n",
    "* normalized  the  extracted  K2/C2 light curve -> a  high-pass  filter  with  a  cut-on  frequency  of  1  day−1. This  filtering  highlighted  the  quasi-periodic  and  aperiodic dimming events, while suppressing the periodic vari- ability from stellar rotation, due to their different duty cycles\n",
    "\n",
    "##  trends and correlations\n",
    "\n",
    "\n",
    "## Possible mechanisms & driving phenomenon\n",
    "\n"
   ]
  },
  {
   "cell_type": "code",
   "execution_count": null,
   "metadata": {
    "collapsed": true
   },
   "outputs": [],
   "source": []
  }
 ],
 "metadata": {
  "kernelspec": {
   "display_name": "Python 2",
   "language": "python",
   "name": "python2"
  },
  "language_info": {
   "codemirror_mode": {
    "name": "ipython",
    "version": 2
   },
   "file_extension": ".py",
   "mimetype": "text/x-python",
   "name": "python",
   "nbconvert_exporter": "python",
   "pygments_lexer": "ipython2",
   "version": "2.7.13"
  }
 },
 "nbformat": 4,
 "nbformat_minor": 2
}
